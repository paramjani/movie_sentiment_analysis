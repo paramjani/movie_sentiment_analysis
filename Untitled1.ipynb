{
 "cells": [
  {
   "cell_type": "code",
   "execution_count": 1,
   "id": "852ed024-b4c5-4b4b-995a-933ba2536fd6",
   "metadata": {},
   "outputs": [
    {
     "name": "stderr",
     "output_type": "stream",
     "text": [
      "[nltk_data] Downloading package stopwords to\n",
      "[nltk_data]     C:\\Users\\VIVEK\\AppData\\Roaming\\nltk_data...\n",
      "[nltk_data]   Package stopwords is already up-to-date!\n"
     ]
    },
    {
     "name": "stdout",
     "output_type": "stream",
     "text": [
      "Logistic Regression - Accuracy: 0.866, F1 Score: 0.8699029126213592\n",
      "SVM - Accuracy: 0.865, F1 Score: 0.8693126815101646\n",
      "Positive\n"
     ]
    }
   ],
   "source": [
    "# Import necessary libraries\n",
    "import pandas as pd\n",
    "import numpy as np\n",
    "from sklearn.model_selection import train_test_split\n",
    "from sklearn.feature_extraction.text import TfidfVectorizer\n",
    "from sklearn.linear_model import LogisticRegression\n",
    "from sklearn.svm import SVC\n",
    "from sklearn.metrics import accuracy_score, f1_score\n",
    "import nltk\n",
    "from nltk.corpus import stopwords\n",
    "import re\n",
    "import joblib\n",
    "\n",
    "# Download NLTK stopwords if not already\n",
    "nltk.download('stopwords')\n",
    "stop_words = set(stopwords.words('english'))\n",
    "\n",
    "# Load your dataset (update path to your file)\n",
    "# Assuming dataset has two columns: 'review' and 'sentiment'\n",
    "data = pd.read_csv('movie_dataset.csv')\n",
    "\n",
    "# Data Preprocessing function\n",
    "def clean_text(text):\n",
    "    # Convert to lowercase\n",
    "    text = text.lower()\n",
    "    # Remove non-alphabetic characters\n",
    "    text = re.sub(r'[^a-zA-Z\\s]', '', text)\n",
    "    # Remove stopwords\n",
    "    text = ' '.join(word for word in text.split() if word not in stop_words)\n",
    "    return text\n",
    "\n",
    "# Apply text cleaning\n",
    "data['cleaned_review'] = data['review'].apply(clean_text)\n",
    "\n",
    "# Optional: Sample a smaller subset of the data for quicker prototyping (20% of the original dataset)\n",
    "data_sample = data.sample(frac=0.2, random_state=42)\n",
    "\n",
    "# Feature Extraction using TF-IDF (reduce max_features to 2000 for faster processing)\n",
    "tfidf = TfidfVectorizer(max_features=2000)  # Reduced max features for speed\n",
    "X = tfidf.fit_transform(data_sample['cleaned_review'])  # Keep as sparse matrix\n",
    "y = data_sample['sentiment'].apply(lambda x: 1 if x == 'positive' else 0)  # Encode sentiment\n",
    "\n",
    "# Train-test split (try a different random state if desired)\n",
    "X_train, X_test, y_train, y_test = train_test_split(X, y, test_size=0.2, random_state=0)\n",
    "\n",
    "# Train the models\n",
    "# Logistic Regression\n",
    "log_reg = LogisticRegression()\n",
    "log_reg.fit(X_train, y_train)\n",
    "y_pred_log = log_reg.predict(X_test)\n",
    "\n",
    "# Support Vector Machine (SVM)\n",
    "svm_model = SVC()\n",
    "svm_model.fit(X_train, y_train)\n",
    "y_pred_svm = svm_model.predict(X_test)\n",
    "\n",
    "# Evaluate models\n",
    "# Logistic Regression Metrics\n",
    "accuracy_log = accuracy_score(y_test, y_pred_log)\n",
    "f1_log = f1_score(y_test, y_pred_log)\n",
    "print(f\"Logistic Regression - Accuracy: {accuracy_log}, F1 Score: {f1_log}\")\n",
    "\n",
    "# SVM Metrics\n",
    "accuracy_svm = accuracy_score(y_test, y_pred_svm)\n",
    "f1_svm = f1_score(y_test, y_pred_svm)\n",
    "print(f\"SVM - Accuracy: {accuracy_svm}, F1 Score: {f1_svm}\")\n",
    "\n",
    "# Save models and vectorizer for later use\n",
    "joblib.dump(log_reg, 'logistic_regression_model.pkl')\n",
    "joblib.dump(svm_model, 'svm_model.pkl')\n",
    "joblib.dump(tfidf, 'tfidf_vectorizer.pkl')\n",
    "\n",
    "# Load models and vectorizer for testing predictions on new data\n",
    "# Example prediction\n",
    "loaded_log_reg = joblib.load('logistic_regression_model.pkl')\n",
    "loaded_tfidf = joblib.load('tfidf_vectorizer.pkl')\n",
    "\n",
    "new_review = \"This movie was fantastic and had great visual effects!\"\n",
    "new_review_cleaned = clean_text(new_review)\n",
    "new_review_vectorized = loaded_tfidf.transform([new_review_cleaned])\n",
    "prediction = loaded_log_reg.predict(new_review_vectorized)\n",
    "print(\"Positive\" if prediction[0] == 1 else \"Negative\")\n"
   ]
  },
  {
   "cell_type": "code",
   "execution_count": null,
   "id": "fe01d6d5-0f91-4067-aef7-cfbc2850637a",
   "metadata": {},
   "outputs": [],
   "source": []
  }
 ],
 "metadata": {
  "kernelspec": {
   "display_name": "Python 3 (ipykernel)",
   "language": "python",
   "name": "python3"
  },
  "language_info": {
   "codemirror_mode": {
    "name": "ipython",
    "version": 3
   },
   "file_extension": ".py",
   "mimetype": "text/x-python",
   "name": "python",
   "nbconvert_exporter": "python",
   "pygments_lexer": "ipython3",
   "version": "3.12.4"
  }
 },
 "nbformat": 4,
 "nbformat_minor": 5
}
